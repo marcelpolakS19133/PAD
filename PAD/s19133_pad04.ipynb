{
 "nbformat": 4,
 "nbformat_minor": 0,
 "metadata": {
  "colab": {
   "provenance": [],
   "authorship_tag": "ABX9TyM/IEyKrBImMU7q537NwTDt"
  },
  "kernelspec": {
   "name": "python3",
   "language": "python",
   "display_name": "Python 3"
  },
  "language_info": {
   "name": "python"
  }
 },
 "cells": [
  {
   "cell_type": "markdown",
   "source": [
    "Zadanie 1 (5 pkt)\n",
    "\n",
    "\n",
    "Wgraj zawartość pliku orders.csv do ramki danych.\n",
    "Przyjrzyj się danym, wykorzystując poznane metody (describe, info, head) zanalizuj dane.\n",
    "\n",
    "Następnie:\n",
    "\n",
    "\n",
    "\n",
    "1. Zamień order_date na format daty. Upewnij się, że w rezultacie data będzie w formacie: rok-miesiąc-dzień;\n",
    "2. Sprawdź ile i jakie unikalne wartości znajdują się w kolumnie T-shirt category;\n",
    "3. Wyczyść kolumnę tshirt_category normalizując nazwy produktów. Upewnij się, że dla każdej kategorii funkcjonuje jedna nazwa, np. zamiast white i wh jest tylko jedna wersja white. Skorzystaj z klasy string i metody apply;\n",
    "4. Rozdziel kolumnę tshirt category na 3 kolumny: tshirt_type, która będzie mówiła o tym czy jest to koszulka, bluza czy coś innego, tshirt_size, która będzie informowała o rozmiarze koszulki, i tshirt_colour, która będzie informowała o kolorze. Skorzystaj z metody apply.\n",
    "5. Znajdź zamówienia złożone między 31 grudnia 2014 a 2 sierpnia 2016.\n"
   ],
   "metadata": {
    "id": "6s5atoa1swg0"
   }
  },
  {
   "cell_type": "code",
   "execution_count": 8,
   "metadata": {
    "id": "Ktake9Iqsl1O"
   },
   "outputs": [
    {
     "data": {
      "text/plain": "   order_date  pages_visited         order_id customer_id  tshirt_category  \\\n0  2016/09/04              9  HTS-038040-0002      038040  White T-Shirt M   \n1  2014/11/14             11  HTS-801797-0001      801797  White T-Shirt M   \n2  2017/02/26             10  HTS-vft1eu-0003      vft1eu  White T-Shirt F   \n3  2013/12/01             10  HTS-914324-0001      914324      Wh Tshirt F   \n4  2015/10/22             12  HTS-88ua9r-0001      88ua9r  White T-Shirt M   \n\n   tshirt_price  tshirt_quantity  \n0          20.0                1  \n1          20.0                1  \n2          18.0                3  \n3          18.0                1  \n4          20.0                1  ",
      "text/html": "<div>\n<style scoped>\n    .dataframe tbody tr th:only-of-type {\n        vertical-align: middle;\n    }\n\n    .dataframe tbody tr th {\n        vertical-align: top;\n    }\n\n    .dataframe thead th {\n        text-align: right;\n    }\n</style>\n<table border=\"1\" class=\"dataframe\">\n  <thead>\n    <tr style=\"text-align: right;\">\n      <th></th>\n      <th>order_date</th>\n      <th>pages_visited</th>\n      <th>order_id</th>\n      <th>customer_id</th>\n      <th>tshirt_category</th>\n      <th>tshirt_price</th>\n      <th>tshirt_quantity</th>\n    </tr>\n  </thead>\n  <tbody>\n    <tr>\n      <th>0</th>\n      <td>2016/09/04</td>\n      <td>9</td>\n      <td>HTS-038040-0002</td>\n      <td>038040</td>\n      <td>White T-Shirt M</td>\n      <td>20.0</td>\n      <td>1</td>\n    </tr>\n    <tr>\n      <th>1</th>\n      <td>2014/11/14</td>\n      <td>11</td>\n      <td>HTS-801797-0001</td>\n      <td>801797</td>\n      <td>White T-Shirt M</td>\n      <td>20.0</td>\n      <td>1</td>\n    </tr>\n    <tr>\n      <th>2</th>\n      <td>2017/02/26</td>\n      <td>10</td>\n      <td>HTS-vft1eu-0003</td>\n      <td>vft1eu</td>\n      <td>White T-Shirt F</td>\n      <td>18.0</td>\n      <td>3</td>\n    </tr>\n    <tr>\n      <th>3</th>\n      <td>2013/12/01</td>\n      <td>10</td>\n      <td>HTS-914324-0001</td>\n      <td>914324</td>\n      <td>Wh Tshirt F</td>\n      <td>18.0</td>\n      <td>1</td>\n    </tr>\n    <tr>\n      <th>4</th>\n      <td>2015/10/22</td>\n      <td>12</td>\n      <td>HTS-88ua9r-0001</td>\n      <td>88ua9r</td>\n      <td>White T-Shirt M</td>\n      <td>20.0</td>\n      <td>1</td>\n    </tr>\n  </tbody>\n</table>\n</div>"
     },
     "execution_count": 8,
     "metadata": {},
     "output_type": "execute_result"
    }
   ],
   "source": [
    "import pandas as pd\n",
    "\n",
    "orders_pd = pd.read_csv(\"data04/orders.csv\")\n",
    "orders_pd.head()"
   ]
  },
  {
   "cell_type": "code",
   "execution_count": 9,
   "outputs": [
    {
     "data": {
      "text/plain": "       pages_visited  tshirt_price  tshirt_quantity\ncount   26552.000000  26552.000000     26552.000000\nmean       10.838016     20.223768         2.693394\nstd         3.589299      2.220651         3.456182\nmin         2.000000     17.500000         1.000000\n25%         8.000000     18.000000         1.000000\n50%        11.000000     20.000000         2.000000\n75%        13.000000     23.000000         3.000000\nmax        28.000000     24.000000        29.000000",
      "text/html": "<div>\n<style scoped>\n    .dataframe tbody tr th:only-of-type {\n        vertical-align: middle;\n    }\n\n    .dataframe tbody tr th {\n        vertical-align: top;\n    }\n\n    .dataframe thead th {\n        text-align: right;\n    }\n</style>\n<table border=\"1\" class=\"dataframe\">\n  <thead>\n    <tr style=\"text-align: right;\">\n      <th></th>\n      <th>pages_visited</th>\n      <th>tshirt_price</th>\n      <th>tshirt_quantity</th>\n    </tr>\n  </thead>\n  <tbody>\n    <tr>\n      <th>count</th>\n      <td>26552.000000</td>\n      <td>26552.000000</td>\n      <td>26552.000000</td>\n    </tr>\n    <tr>\n      <th>mean</th>\n      <td>10.838016</td>\n      <td>20.223768</td>\n      <td>2.693394</td>\n    </tr>\n    <tr>\n      <th>std</th>\n      <td>3.589299</td>\n      <td>2.220651</td>\n      <td>3.456182</td>\n    </tr>\n    <tr>\n      <th>min</th>\n      <td>2.000000</td>\n      <td>17.500000</td>\n      <td>1.000000</td>\n    </tr>\n    <tr>\n      <th>25%</th>\n      <td>8.000000</td>\n      <td>18.000000</td>\n      <td>1.000000</td>\n    </tr>\n    <tr>\n      <th>50%</th>\n      <td>11.000000</td>\n      <td>20.000000</td>\n      <td>2.000000</td>\n    </tr>\n    <tr>\n      <th>75%</th>\n      <td>13.000000</td>\n      <td>23.000000</td>\n      <td>3.000000</td>\n    </tr>\n    <tr>\n      <th>max</th>\n      <td>28.000000</td>\n      <td>24.000000</td>\n      <td>29.000000</td>\n    </tr>\n  </tbody>\n</table>\n</div>"
     },
     "execution_count": 9,
     "metadata": {},
     "output_type": "execute_result"
    }
   ],
   "source": [
    "orders_pd.describe()"
   ],
   "metadata": {
    "collapsed": false,
    "pycharm": {
     "name": "#%%\n"
    }
   }
  },
  {
   "cell_type": "code",
   "execution_count": 10,
   "outputs": [
    {
     "name": "stdout",
     "output_type": "stream",
     "text": [
      "<class 'pandas.core.frame.DataFrame'>\n",
      "RangeIndex: 26552 entries, 0 to 26551\n",
      "Data columns (total 7 columns):\n",
      " #   Column           Non-Null Count  Dtype  \n",
      "---  ------           --------------  -----  \n",
      " 0   order_date       26552 non-null  object \n",
      " 1   pages_visited    26552 non-null  int64  \n",
      " 2   order_id         26552 non-null  object \n",
      " 3   customer_id      26552 non-null  object \n",
      " 4   tshirt_category  26552 non-null  object \n",
      " 5   tshirt_price     26552 non-null  float64\n",
      " 6   tshirt_quantity  26552 non-null  int64  \n",
      "dtypes: float64(1), int64(2), object(4)\n",
      "memory usage: 1.4+ MB\n"
     ]
    }
   ],
   "source": [
    "orders_pd.info()"
   ],
   "metadata": {
    "collapsed": false,
    "pycharm": {
     "name": "#%%\n"
    }
   }
  },
  {
   "cell_type": "code",
   "execution_count": 11,
   "outputs": [
    {
     "data": {
      "text/plain": "order_date         datetime64[ns]\npages_visited               int64\norder_id                   object\ncustomer_id                object\ntshirt_category            object\ntshirt_price              float64\ntshirt_quantity             int64\ndtype: object"
     },
     "execution_count": 11,
     "metadata": {},
     "output_type": "execute_result"
    }
   ],
   "source": [
    "#1.\n",
    "orders_pd[\"order_date\"] = pd.to_datetime(orders_pd[\"order_date\"], format=\"%Y-%m-%d\")\n",
    "orders_pd.dtypes"
   ],
   "metadata": {
    "collapsed": false,
    "pycharm": {
     "name": "#%%\n"
    }
   }
  },
  {
   "cell_type": "code",
   "execution_count": 12,
   "outputs": [
    {
     "data": {
      "text/plain": "Hoodie             6229\nWhite T-Shirt M    5547\nBlack T-Shirt M    4454\nWhite T-Shirt F    3513\nBlack T-Shirt F    3248\nTennis Shirt       2153\nWh Tshirt M         462\nBl Tshirt M         377\nWh Tshirt F         312\nBl Tshirt F         257\nName: tshirt_category, dtype: int64"
     },
     "execution_count": 12,
     "metadata": {},
     "output_type": "execute_result"
    }
   ],
   "source": [
    "#2.\n",
    "orders_pd[\"tshirt_category\"].value_counts()"
   ],
   "metadata": {
    "collapsed": false,
    "pycharm": {
     "name": "#%%\n"
    }
   }
  },
  {
   "cell_type": "code",
   "execution_count": 13,
   "outputs": [
    {
     "data": {
      "text/plain": "Hoodie             6229\nWhite T-Shirt M    6009\nBlack T-Shirt M    4831\nWhite T-Shirt F    3825\nBlack T-Shirt F    3505\nTennis Shirt       2153\nName: tshirt_category, dtype: int64"
     },
     "execution_count": 13,
     "metadata": {},
     "output_type": "execute_result"
    }
   ],
   "source": [
    "#3.\n",
    "orders_pd[\"tshirt_category\"] = orders_pd[\"tshirt_category\"].apply(lambda x: x.replace(\"Wh Tshirt M\", \"White T-Shirt M\"))\n",
    "orders_pd[\"tshirt_category\"] = orders_pd[\"tshirt_category\"].apply(lambda x: x.replace(\"Bl Tshirt M\", \"Black T-Shirt M\"))\n",
    "orders_pd[\"tshirt_category\"] = orders_pd[\"tshirt_category\"].apply(lambda x: x.replace(\"Wh Tshirt F\", \"White T-Shirt F\"))\n",
    "orders_pd[\"tshirt_category\"] = orders_pd[\"tshirt_category\"].apply(lambda x: x.replace(\"Bl Tshirt F\", \"Black T-Shirt F\"))\n",
    "orders_pd[\"tshirt_category\"].value_counts()"
   ],
   "metadata": {
    "collapsed": false,
    "pycharm": {
     "name": "#%%\n"
    }
   }
  },
  {
   "cell_type": "code",
   "execution_count": 14,
   "outputs": [],
   "source": [
    "#4.\n",
    "def tee_type(cat: str):\n",
    "    if cat == \"Hoodie\":\n",
    "        return \"hoodie\"\n",
    "    if cat == \"Tennis Shirt\":\n",
    "        return \"other\"\n",
    "    return cat.lower().split(\" \")[1]\n",
    "\n",
    "\n",
    "def tee_color(cat: str):\n",
    "    if cat == \"Hoodie\" or cat == \"Tennis Shirt\":\n",
    "        return None\n",
    "    return cat.lower().split(\" \")[0]\n",
    "\n",
    "\n",
    "def tee_size(cat: str):\n",
    "    if cat == \"Hoodie\" or cat == \"Tennis Shirt\":\n",
    "        return None\n",
    "    return cat.lower().split(\" \")[2]"
   ],
   "metadata": {
    "collapsed": false,
    "pycharm": {
     "name": "#%%\n"
    }
   }
  },
  {
   "cell_type": "code",
   "execution_count": 15,
   "outputs": [
    {
     "data": {
      "text/plain": "  order_date  pages_visited         order_id customer_id  tshirt_category  \\\n0 2016-09-04              9  HTS-038040-0002      038040  White T-Shirt M   \n1 2014-11-14             11  HTS-801797-0001      801797  White T-Shirt M   \n2 2017-02-26             10  HTS-vft1eu-0003      vft1eu  White T-Shirt F   \n3 2013-12-01             10  HTS-914324-0001      914324  White T-Shirt F   \n4 2015-10-22             12  HTS-88ua9r-0001      88ua9r  White T-Shirt M   \n\n   tshirt_price  tshirt_quantity tshirt_type tshirt_color tshirt_size  \n0          20.0                1     t-shirt        white           m  \n1          20.0                1     t-shirt        white           m  \n2          18.0                3     t-shirt        white           f  \n3          18.0                1     t-shirt        white           f  \n4          20.0                1     t-shirt        white           m  ",
      "text/html": "<div>\n<style scoped>\n    .dataframe tbody tr th:only-of-type {\n        vertical-align: middle;\n    }\n\n    .dataframe tbody tr th {\n        vertical-align: top;\n    }\n\n    .dataframe thead th {\n        text-align: right;\n    }\n</style>\n<table border=\"1\" class=\"dataframe\">\n  <thead>\n    <tr style=\"text-align: right;\">\n      <th></th>\n      <th>order_date</th>\n      <th>pages_visited</th>\n      <th>order_id</th>\n      <th>customer_id</th>\n      <th>tshirt_category</th>\n      <th>tshirt_price</th>\n      <th>tshirt_quantity</th>\n      <th>tshirt_type</th>\n      <th>tshirt_color</th>\n      <th>tshirt_size</th>\n    </tr>\n  </thead>\n  <tbody>\n    <tr>\n      <th>0</th>\n      <td>2016-09-04</td>\n      <td>9</td>\n      <td>HTS-038040-0002</td>\n      <td>038040</td>\n      <td>White T-Shirt M</td>\n      <td>20.0</td>\n      <td>1</td>\n      <td>t-shirt</td>\n      <td>white</td>\n      <td>m</td>\n    </tr>\n    <tr>\n      <th>1</th>\n      <td>2014-11-14</td>\n      <td>11</td>\n      <td>HTS-801797-0001</td>\n      <td>801797</td>\n      <td>White T-Shirt M</td>\n      <td>20.0</td>\n      <td>1</td>\n      <td>t-shirt</td>\n      <td>white</td>\n      <td>m</td>\n    </tr>\n    <tr>\n      <th>2</th>\n      <td>2017-02-26</td>\n      <td>10</td>\n      <td>HTS-vft1eu-0003</td>\n      <td>vft1eu</td>\n      <td>White T-Shirt F</td>\n      <td>18.0</td>\n      <td>3</td>\n      <td>t-shirt</td>\n      <td>white</td>\n      <td>f</td>\n    </tr>\n    <tr>\n      <th>3</th>\n      <td>2013-12-01</td>\n      <td>10</td>\n      <td>HTS-914324-0001</td>\n      <td>914324</td>\n      <td>White T-Shirt F</td>\n      <td>18.0</td>\n      <td>1</td>\n      <td>t-shirt</td>\n      <td>white</td>\n      <td>f</td>\n    </tr>\n    <tr>\n      <th>4</th>\n      <td>2015-10-22</td>\n      <td>12</td>\n      <td>HTS-88ua9r-0001</td>\n      <td>88ua9r</td>\n      <td>White T-Shirt M</td>\n      <td>20.0</td>\n      <td>1</td>\n      <td>t-shirt</td>\n      <td>white</td>\n      <td>m</td>\n    </tr>\n  </tbody>\n</table>\n</div>"
     },
     "execution_count": 15,
     "metadata": {},
     "output_type": "execute_result"
    }
   ],
   "source": [
    "orders_pd[\"tshirt_type\"] = orders_pd[\"tshirt_category\"].apply(lambda x: tee_type(x))\n",
    "orders_pd[\"tshirt_color\"] = orders_pd[\"tshirt_category\"].apply(lambda x: tee_color(x))\n",
    "orders_pd[\"tshirt_size\"] = orders_pd[\"tshirt_category\"].apply(lambda x: tee_size(x))\n",
    "orders_pd.head()"
   ],
   "metadata": {
    "collapsed": false,
    "pycharm": {
     "name": "#%%\n"
    }
   }
  },
  {
   "cell_type": "code",
   "execution_count": 16,
   "outputs": [
    {
     "data": {
      "text/plain": "      order_date  pages_visited         order_id customer_id  tshirt_category  \\\n4     2015-10-22             12  HTS-88ua9r-0001      88ua9r  White T-Shirt M   \n5     2016-01-15              9  HTS-061311-0003      061311  Black T-Shirt F   \n12    2015-11-24             15  HTS-je57lh-0001      je57lh           Hoodie   \n13    2015-10-10              8  HTS-252675-0002      252675  White T-Shirt M   \n15    2015-11-29             15  HTS-heb26i-0001      heb26i  Black T-Shirt F   \n...          ...            ...              ...         ...              ...   \n26496 2016-06-02              2  HTS-5b4bg6-0001      5b4bg6  Black T-Shirt F   \n26513 2016-07-05             12  HTS-bt08zd-0001      bt08zd  White T-Shirt F   \n26515 2016-07-27             17  HTS-gsc3f6-0001      gsc3f6           Hoodie   \n26540 2016-06-08              7  HTS-6ba0i0-0001      6ba0i0  White T-Shirt M   \n26548 2016-08-02              4  HTS-q0nm12-0001      q0nm12  White T-Shirt M   \n\n       tshirt_price  tshirt_quantity tshirt_type tshirt_color tshirt_size  \n4              20.0                1     t-shirt        white           m  \n5              17.5                4     t-shirt        black           f  \n12             23.0                3      hoodie         None        None  \n13             20.0                3     t-shirt        white           m  \n15             17.5                1     t-shirt        black           f  \n...             ...              ...         ...          ...         ...  \n26496          17.5                1     t-shirt        black           f  \n26513          18.0                1     t-shirt        white           f  \n26515          23.0                1      hoodie         None        None  \n26540          20.0                4     t-shirt        white           m  \n26548          20.0                1     t-shirt        white           m  \n\n[12619 rows x 10 columns]",
      "text/html": "<div>\n<style scoped>\n    .dataframe tbody tr th:only-of-type {\n        vertical-align: middle;\n    }\n\n    .dataframe tbody tr th {\n        vertical-align: top;\n    }\n\n    .dataframe thead th {\n        text-align: right;\n    }\n</style>\n<table border=\"1\" class=\"dataframe\">\n  <thead>\n    <tr style=\"text-align: right;\">\n      <th></th>\n      <th>order_date</th>\n      <th>pages_visited</th>\n      <th>order_id</th>\n      <th>customer_id</th>\n      <th>tshirt_category</th>\n      <th>tshirt_price</th>\n      <th>tshirt_quantity</th>\n      <th>tshirt_type</th>\n      <th>tshirt_color</th>\n      <th>tshirt_size</th>\n    </tr>\n  </thead>\n  <tbody>\n    <tr>\n      <th>4</th>\n      <td>2015-10-22</td>\n      <td>12</td>\n      <td>HTS-88ua9r-0001</td>\n      <td>88ua9r</td>\n      <td>White T-Shirt M</td>\n      <td>20.0</td>\n      <td>1</td>\n      <td>t-shirt</td>\n      <td>white</td>\n      <td>m</td>\n    </tr>\n    <tr>\n      <th>5</th>\n      <td>2016-01-15</td>\n      <td>9</td>\n      <td>HTS-061311-0003</td>\n      <td>061311</td>\n      <td>Black T-Shirt F</td>\n      <td>17.5</td>\n      <td>4</td>\n      <td>t-shirt</td>\n      <td>black</td>\n      <td>f</td>\n    </tr>\n    <tr>\n      <th>12</th>\n      <td>2015-11-24</td>\n      <td>15</td>\n      <td>HTS-je57lh-0001</td>\n      <td>je57lh</td>\n      <td>Hoodie</td>\n      <td>23.0</td>\n      <td>3</td>\n      <td>hoodie</td>\n      <td>None</td>\n      <td>None</td>\n    </tr>\n    <tr>\n      <th>13</th>\n      <td>2015-10-10</td>\n      <td>8</td>\n      <td>HTS-252675-0002</td>\n      <td>252675</td>\n      <td>White T-Shirt M</td>\n      <td>20.0</td>\n      <td>3</td>\n      <td>t-shirt</td>\n      <td>white</td>\n      <td>m</td>\n    </tr>\n    <tr>\n      <th>15</th>\n      <td>2015-11-29</td>\n      <td>15</td>\n      <td>HTS-heb26i-0001</td>\n      <td>heb26i</td>\n      <td>Black T-Shirt F</td>\n      <td>17.5</td>\n      <td>1</td>\n      <td>t-shirt</td>\n      <td>black</td>\n      <td>f</td>\n    </tr>\n    <tr>\n      <th>...</th>\n      <td>...</td>\n      <td>...</td>\n      <td>...</td>\n      <td>...</td>\n      <td>...</td>\n      <td>...</td>\n      <td>...</td>\n      <td>...</td>\n      <td>...</td>\n      <td>...</td>\n    </tr>\n    <tr>\n      <th>26496</th>\n      <td>2016-06-02</td>\n      <td>2</td>\n      <td>HTS-5b4bg6-0001</td>\n      <td>5b4bg6</td>\n      <td>Black T-Shirt F</td>\n      <td>17.5</td>\n      <td>1</td>\n      <td>t-shirt</td>\n      <td>black</td>\n      <td>f</td>\n    </tr>\n    <tr>\n      <th>26513</th>\n      <td>2016-07-05</td>\n      <td>12</td>\n      <td>HTS-bt08zd-0001</td>\n      <td>bt08zd</td>\n      <td>White T-Shirt F</td>\n      <td>18.0</td>\n      <td>1</td>\n      <td>t-shirt</td>\n      <td>white</td>\n      <td>f</td>\n    </tr>\n    <tr>\n      <th>26515</th>\n      <td>2016-07-27</td>\n      <td>17</td>\n      <td>HTS-gsc3f6-0001</td>\n      <td>gsc3f6</td>\n      <td>Hoodie</td>\n      <td>23.0</td>\n      <td>1</td>\n      <td>hoodie</td>\n      <td>None</td>\n      <td>None</td>\n    </tr>\n    <tr>\n      <th>26540</th>\n      <td>2016-06-08</td>\n      <td>7</td>\n      <td>HTS-6ba0i0-0001</td>\n      <td>6ba0i0</td>\n      <td>White T-Shirt M</td>\n      <td>20.0</td>\n      <td>4</td>\n      <td>t-shirt</td>\n      <td>white</td>\n      <td>m</td>\n    </tr>\n    <tr>\n      <th>26548</th>\n      <td>2016-08-02</td>\n      <td>4</td>\n      <td>HTS-q0nm12-0001</td>\n      <td>q0nm12</td>\n      <td>White T-Shirt M</td>\n      <td>20.0</td>\n      <td>1</td>\n      <td>t-shirt</td>\n      <td>white</td>\n      <td>m</td>\n    </tr>\n  </tbody>\n</table>\n<p>12619 rows × 10 columns</p>\n</div>"
     },
     "execution_count": 16,
     "metadata": {},
     "output_type": "execute_result"
    }
   ],
   "source": [
    "#5.\n",
    "start = \"2014-12-31\"\n",
    "end = \"2016-08-02\"\n",
    "orders_pd.query(\"order_date > @start and order_date <= @end\")"
   ],
   "metadata": {
    "collapsed": false,
    "pycharm": {
     "name": "#%%\n"
    }
   }
  },
  {
   "cell_type": "markdown",
   "source": [
    "Zadanie 2 (4 pkt)\n",
    "\n",
    "\n",
    "Wgraj plik customers.csv do ramki danych. \n",
    "\n",
    "Następnie:\n",
    "1. Wypisz kolumny;\n",
    "2. Porównaj rozmiar ramki z rozmiarem ramki w zadaniu 1;\n",
    "3. Zmień nazwę kolumny customerID  na customer_id upewniając się, że dane zmiana zostanie zapisana w pamięci dzięki jednemu z argumentów metody do zmiany nazwy kolumny;\n",
    "4. Połącz ramkę orders z ramką customers po kolumnie customer_id. Z której metody skorzystasz? Zostaw odpowiedź w komentarzu do zadania w kodzie (np. blok komentarzem ‘’’ ‘’’).\n"
   ],
   "metadata": {
    "id": "g0QB8rtHtGhT"
   }
  },
  {
   "cell_type": "code",
   "source": [
    "customers_pd = pd.read_csv(\"data04/customers.csv\")\n",
    "customers_pd.head()"
   ],
   "metadata": {
    "id": "_rfPFhLGtRm-"
   },
   "execution_count": 17,
   "outputs": [
    {
     "data": {
      "text/plain": "  customerID gender   birthdate  \\\n0     886900      M   1953/10/5   \n1     038040      F  1946/12/21   \n2     698696      F   1983/12/1   \n3     sn9keh      M   1990/9/23   \n4     496907      M    1869/6/8   \n\n                                          user_agent     ip_address  campaign  \n0  Mozilla/5.0 (Windows NT 10.0; Win64; x64) Appl...   69.8.136.110     False  \n1  Mozilla/5.0 (Windows NT 10.0; WOW64) AppleWebK...  67.74.254.174     False  \n2  Mozilla/5.0 (Windows NT 6.3; WOW64) AppleWebKi...  95.135.70.206     False  \n3  Mozilla/5.0 (Macintosh; Intel Mac OS X 10_11_6...  129.50.205.26     False  \n4  Mozilla/5.0 (Windows NT 6.1; Win64; x64) Apple...   81.98.234.29     False  ",
      "text/html": "<div>\n<style scoped>\n    .dataframe tbody tr th:only-of-type {\n        vertical-align: middle;\n    }\n\n    .dataframe tbody tr th {\n        vertical-align: top;\n    }\n\n    .dataframe thead th {\n        text-align: right;\n    }\n</style>\n<table border=\"1\" class=\"dataframe\">\n  <thead>\n    <tr style=\"text-align: right;\">\n      <th></th>\n      <th>customerID</th>\n      <th>gender</th>\n      <th>birthdate</th>\n      <th>user_agent</th>\n      <th>ip_address</th>\n      <th>campaign</th>\n    </tr>\n  </thead>\n  <tbody>\n    <tr>\n      <th>0</th>\n      <td>886900</td>\n      <td>M</td>\n      <td>1953/10/5</td>\n      <td>Mozilla/5.0 (Windows NT 10.0; Win64; x64) Appl...</td>\n      <td>69.8.136.110</td>\n      <td>False</td>\n    </tr>\n    <tr>\n      <th>1</th>\n      <td>038040</td>\n      <td>F</td>\n      <td>1946/12/21</td>\n      <td>Mozilla/5.0 (Windows NT 10.0; WOW64) AppleWebK...</td>\n      <td>67.74.254.174</td>\n      <td>False</td>\n    </tr>\n    <tr>\n      <th>2</th>\n      <td>698696</td>\n      <td>F</td>\n      <td>1983/12/1</td>\n      <td>Mozilla/5.0 (Windows NT 6.3; WOW64) AppleWebKi...</td>\n      <td>95.135.70.206</td>\n      <td>False</td>\n    </tr>\n    <tr>\n      <th>3</th>\n      <td>sn9keh</td>\n      <td>M</td>\n      <td>1990/9/23</td>\n      <td>Mozilla/5.0 (Macintosh; Intel Mac OS X 10_11_6...</td>\n      <td>129.50.205.26</td>\n      <td>False</td>\n    </tr>\n    <tr>\n      <th>4</th>\n      <td>496907</td>\n      <td>M</td>\n      <td>1869/6/8</td>\n      <td>Mozilla/5.0 (Windows NT 6.1; Win64; x64) Apple...</td>\n      <td>81.98.234.29</td>\n      <td>False</td>\n    </tr>\n  </tbody>\n</table>\n</div>"
     },
     "execution_count": 17,
     "metadata": {},
     "output_type": "execute_result"
    }
   ]
  },
  {
   "cell_type": "code",
   "execution_count": 18,
   "outputs": [
    {
     "data": {
      "text/plain": "Index(['customerID', 'gender', 'birthdate', 'user_agent', 'ip_address',\n       'campaign'],\n      dtype='object')"
     },
     "execution_count": 18,
     "metadata": {},
     "output_type": "execute_result"
    }
   ],
   "source": [
    "#1.\n",
    "customers_pd.columns"
   ],
   "metadata": {
    "collapsed": false,
    "pycharm": {
     "name": "#%%\n"
    }
   }
  },
  {
   "cell_type": "code",
   "execution_count": 19,
   "outputs": [
    {
     "data": {
      "text/plain": "(18766, 6)"
     },
     "execution_count": 19,
     "metadata": {},
     "output_type": "execute_result"
    }
   ],
   "source": [
    "#2.\n",
    "customers_pd.shape"
   ],
   "metadata": {
    "collapsed": false,
    "pycharm": {
     "name": "#%%\n"
    }
   }
  },
  {
   "cell_type": "code",
   "execution_count": 20,
   "outputs": [
    {
     "data": {
      "text/plain": "(26552, 10)"
     },
     "execution_count": 20,
     "metadata": {},
     "output_type": "execute_result"
    }
   ],
   "source": [
    "orders_pd.shape"
   ],
   "metadata": {
    "collapsed": false,
    "pycharm": {
     "name": "#%%\n"
    }
   }
  },
  {
   "cell_type": "code",
   "execution_count": 22,
   "outputs": [
    {
     "data": {
      "text/plain": "Index(['customer_id', 'gender', 'birthdate', 'user_agent', 'ip_address',\n       'campaign'],\n      dtype='object')"
     },
     "execution_count": 22,
     "metadata": {},
     "output_type": "execute_result"
    }
   ],
   "source": [
    "#3.\n",
    "customers_pd.rename(columns={\"customerID\": \"customer_id\"}, inplace=True)\n",
    "customers_pd.columns"
   ],
   "metadata": {
    "collapsed": false,
    "pycharm": {
     "name": "#%%\n"
    }
   }
  },
  {
   "cell_type": "code",
   "execution_count": 23,
   "outputs": [
    {
     "data": {
      "text/plain": "  order_date  pages_visited         order_id customer_id  tshirt_category  \\\n0 2016-09-04              9  HTS-038040-0002      038040  White T-Shirt M   \n1 2014-06-04             13  HTS-038040-0001      038040  White T-Shirt F   \n2 2014-11-14             11  HTS-801797-0001      801797  White T-Shirt M   \n3 2015-10-22             12  HTS-801797-0002      801797  White T-Shirt M   \n4 2017-02-26             10  HTS-vft1eu-0003      vft1eu  White T-Shirt F   \n\n   tshirt_price  tshirt_quantity tshirt_type tshirt_color tshirt_size gender  \\\n0          20.0                1     t-shirt        white           m      F   \n1          18.0                1     t-shirt        white           f      F   \n2          20.0                1     t-shirt        white           m      M   \n3          20.0                2     t-shirt        white           m      M   \n4          18.0                3     t-shirt        white           f      F   \n\n    birthdate                                         user_agent  \\\n0  1946/12/21  Mozilla/5.0 (Windows NT 10.0; WOW64) AppleWebK...   \n1  1946/12/21  Mozilla/5.0 (Windows NT 10.0; WOW64) AppleWebK...   \n2   1956/7/19  Mozilla/5.0 (Windows NT 10.0; Win64; x64) Appl...   \n3   1956/7/19  Mozilla/5.0 (Windows NT 10.0; Win64; x64) Appl...   \n4   1969/6/27  Mozilla/5.0 (Macintosh; Intel Mac OS X 10_12_3...   \n\n        ip_address  campaign  \n0    67.74.254.174     False  \n1    67.74.254.174     False  \n2  137.155.219.158     False  \n3  137.155.219.158     False  \n4     53.115.6.106      True  ",
      "text/html": "<div>\n<style scoped>\n    .dataframe tbody tr th:only-of-type {\n        vertical-align: middle;\n    }\n\n    .dataframe tbody tr th {\n        vertical-align: top;\n    }\n\n    .dataframe thead th {\n        text-align: right;\n    }\n</style>\n<table border=\"1\" class=\"dataframe\">\n  <thead>\n    <tr style=\"text-align: right;\">\n      <th></th>\n      <th>order_date</th>\n      <th>pages_visited</th>\n      <th>order_id</th>\n      <th>customer_id</th>\n      <th>tshirt_category</th>\n      <th>tshirt_price</th>\n      <th>tshirt_quantity</th>\n      <th>tshirt_type</th>\n      <th>tshirt_color</th>\n      <th>tshirt_size</th>\n      <th>gender</th>\n      <th>birthdate</th>\n      <th>user_agent</th>\n      <th>ip_address</th>\n      <th>campaign</th>\n    </tr>\n  </thead>\n  <tbody>\n    <tr>\n      <th>0</th>\n      <td>2016-09-04</td>\n      <td>9</td>\n      <td>HTS-038040-0002</td>\n      <td>038040</td>\n      <td>White T-Shirt M</td>\n      <td>20.0</td>\n      <td>1</td>\n      <td>t-shirt</td>\n      <td>white</td>\n      <td>m</td>\n      <td>F</td>\n      <td>1946/12/21</td>\n      <td>Mozilla/5.0 (Windows NT 10.0; WOW64) AppleWebK...</td>\n      <td>67.74.254.174</td>\n      <td>False</td>\n    </tr>\n    <tr>\n      <th>1</th>\n      <td>2014-06-04</td>\n      <td>13</td>\n      <td>HTS-038040-0001</td>\n      <td>038040</td>\n      <td>White T-Shirt F</td>\n      <td>18.0</td>\n      <td>1</td>\n      <td>t-shirt</td>\n      <td>white</td>\n      <td>f</td>\n      <td>F</td>\n      <td>1946/12/21</td>\n      <td>Mozilla/5.0 (Windows NT 10.0; WOW64) AppleWebK...</td>\n      <td>67.74.254.174</td>\n      <td>False</td>\n    </tr>\n    <tr>\n      <th>2</th>\n      <td>2014-11-14</td>\n      <td>11</td>\n      <td>HTS-801797-0001</td>\n      <td>801797</td>\n      <td>White T-Shirt M</td>\n      <td>20.0</td>\n      <td>1</td>\n      <td>t-shirt</td>\n      <td>white</td>\n      <td>m</td>\n      <td>M</td>\n      <td>1956/7/19</td>\n      <td>Mozilla/5.0 (Windows NT 10.0; Win64; x64) Appl...</td>\n      <td>137.155.219.158</td>\n      <td>False</td>\n    </tr>\n    <tr>\n      <th>3</th>\n      <td>2015-10-22</td>\n      <td>12</td>\n      <td>HTS-801797-0002</td>\n      <td>801797</td>\n      <td>White T-Shirt M</td>\n      <td>20.0</td>\n      <td>2</td>\n      <td>t-shirt</td>\n      <td>white</td>\n      <td>m</td>\n      <td>M</td>\n      <td>1956/7/19</td>\n      <td>Mozilla/5.0 (Windows NT 10.0; Win64; x64) Appl...</td>\n      <td>137.155.219.158</td>\n      <td>False</td>\n    </tr>\n    <tr>\n      <th>4</th>\n      <td>2017-02-26</td>\n      <td>10</td>\n      <td>HTS-vft1eu-0003</td>\n      <td>vft1eu</td>\n      <td>White T-Shirt F</td>\n      <td>18.0</td>\n      <td>3</td>\n      <td>t-shirt</td>\n      <td>white</td>\n      <td>f</td>\n      <td>F</td>\n      <td>1969/6/27</td>\n      <td>Mozilla/5.0 (Macintosh; Intel Mac OS X 10_12_3...</td>\n      <td>53.115.6.106</td>\n      <td>True</td>\n    </tr>\n  </tbody>\n</table>\n</div>"
     },
     "execution_count": 23,
     "metadata": {},
     "output_type": "execute_result"
    }
   ],
   "source": [
    "#4.\n",
    "\"\"\"\n",
    "Uzyje\n",
    "https://pandas.pydata.org/pandas-docs/stable/reference/api/pandas.DataFrame.merge.html?highlight=merge#pandas.DataFrame.merge\n",
    "aby wykonac odpowiednik SQLowego inner joina\n",
    "\"\"\"\n",
    "customers_orders_pd = pd.merge(\n",
    "    orders_pd,\n",
    "    customers_pd,\n",
    "    how=\"inner\",\n",
    "    on=\"customer_id\"\n",
    ")\n",
    "customers_orders_pd.head()"
   ],
   "metadata": {
    "collapsed": false,
    "pycharm": {
     "name": "#%%\n"
    }
   }
  },
  {
   "cell_type": "markdown",
   "source": [
    "Zadanie 3 (1 pkt)\n",
    "\n",
    "Nową ramkę (połączenie orders i customers) zapisz do pliku csv, ale zapisz bez kolumny z indeksem.\n"
   ],
   "metadata": {
    "id": "bCKqMqJQtR8s"
   }
  },
  {
   "cell_type": "code",
   "source": [
    "customers_orders_pd.to_csv(\"data04/customers_orders_noindex\", index=False)"
   ],
   "metadata": {
    "id": "J2gA9RVStSTa"
   },
   "execution_count": 24,
   "outputs": []
  }
 ]
}